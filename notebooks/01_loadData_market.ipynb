{
 "cells": [
  {
   "cell_type": "markdown",
   "metadata": {},
   "source": [
    "<font size=\"6\">**Load Market Data**</font>"
   ]
  },
  {
   "cell_type": "code",
   "execution_count": 1,
   "metadata": {},
   "outputs": [],
   "source": [
    "%load_ext autoreload\n",
    "%autoreload 2"
   ]
  },
  {
   "cell_type": "code",
   "execution_count": 2,
   "metadata": {},
   "outputs": [
    {
     "name": "stdout",
     "output_type": "stream",
     "text": [
      "running notebook configuration\n"
     ]
    }
   ],
   "source": [
    "%run ../nb_config.py"
   ]
  },
  {
   "cell_type": "code",
   "execution_count": 3,
   "metadata": {},
   "outputs": [],
   "source": [
    "from src.load_data import market_data\n",
    "from src import utils"
   ]
  },
  {
   "cell_type": "markdown",
   "metadata": {},
   "source": [
    "# Parameters"
   ]
  },
  {
   "cell_type": "code",
   "execution_count": 4,
   "metadata": {},
   "outputs": [],
   "source": [
    "cf_mkt_data = market_data.conf['files']['raw']['market']\n",
    "cf_cnmc_data = market_data.conf['files']['raw']['cnmc']\n",
    "cf_sources = market_data.conf['sources']['market_data']"
   ]
  },
  {
   "cell_type": "code",
   "execution_count": 5,
   "metadata": {},
   "outputs": [],
   "source": [
    "cf_paths = utils.get_paths()\n",
    "\n",
    "brent_raw_path = os.path.join(cf_paths['raw'], cf_mkt_data['brent']['file'])\n",
    "wti_raw_path = os.path.join(cf_paths['raw'], cf_mkt_data['wti']['file'])\n",
    "natgas_raw_path = os.path.join(cf_paths['raw'], cf_mkt_data['natgas']['file'])\n",
    "\n",
    "cnmc_raw_path =  os.path.join(cf_paths['raw'], cf_cnmc_data['file'])\n",
    "\n",
    "comm_intm_path = os.path.join(\n",
    "    cf_paths['interim'],\n",
    "    market_data.conf['files']['interim']['market']\n",
    ")\n",
    "\n",
    "cnmc_intm_path = os.path.join(\n",
    "    cf_paths['interim'],\n",
    "    market_data.conf['files']['interim']['cnmc']\n",
    ")"
   ]
  },
  {
   "cell_type": "code",
   "execution_count": 6,
   "metadata": {},
   "outputs": [],
   "source": [
    "start_date = cf_sources['start_dt']\n",
    "end_date = cf_sources['end_dt']"
   ]
  },
  {
   "cell_type": "markdown",
   "metadata": {},
   "source": [
    "# Load Data "
   ]
  },
  {
   "cell_type": "markdown",
   "metadata": {},
   "source": [
    "## Market Data"
   ]
  },
  {
   "cell_type": "code",
   "execution_count": 7,
   "metadata": {},
   "outputs": [],
   "source": [
    "ticker = cf_mkt_data['wti']['ticker']\n",
    "freq = cf_mkt_data['wti']['freq']\n",
    "renaming = {'Value': 'Close'}\n",
    "\n",
    "wti_df = market_data.get_quandl_prices(ticker, start_date=start_date, end_date=end_date,\n",
    "                  renaming = renaming)"
   ]
  },
  {
   "cell_type": "code",
   "execution_count": 8,
   "metadata": {},
   "outputs": [],
   "source": [
    "ticker = cf_mkt_data['brent']['ticker']\n",
    "freq = cf_mkt_data['brent']['freq']\n",
    "renaming = {'Value': 'Close'}\n",
    "\n",
    "brent_df = market_data.get_quandl_prices(ticker, start_date=start_date, end_date=end_date,\n",
    "                  renaming = renaming)"
   ]
  },
  {
   "cell_type": "code",
   "execution_count": 9,
   "metadata": {},
   "outputs": [],
   "source": [
    "ticker = cf_mkt_data['natgas']['ticker']\n",
    "freq = cf_mkt_data['natgas']['freq']\n",
    "renaming = {'Settle': 'Close'}\n",
    "\n",
    "natgas_df = market_data.get_quandl_prices(ticker, start_date=start_date, end_date=end_date, renaming=renaming)"
   ]
  },
  {
   "cell_type": "markdown",
   "metadata": {},
   "source": [
    "## CNMC: Spanish Petroleum and Biofuels market Data"
   ]
  },
  {
   "cell_type": "code",
   "execution_count": 10,
   "metadata": {},
   "outputs": [],
   "source": [
    "cnmc_df = market_data.get_cnmc_petromkt_data(start_date=start_date, end_date=end_date)"
   ]
  },
  {
   "cell_type": "markdown",
   "metadata": {},
   "source": [
    "# Prepare Data"
   ]
  },
  {
   "cell_type": "code",
   "execution_count": 11,
   "metadata": {},
   "outputs": [],
   "source": [
    "comm_df = market_data.create_comm_df({'brent': brent_df, 'wti': wti_df, 'natgas': natgas_df})"
   ]
  },
  {
   "cell_type": "markdown",
   "metadata": {},
   "source": [
    "# Write Data"
   ]
  },
  {
   "cell_type": "markdown",
   "metadata": {},
   "source": [
    "## Raw"
   ]
  },
  {
   "cell_type": "code",
   "execution_count": 12,
   "metadata": {},
   "outputs": [],
   "source": [
    "wti_df.to_csv(wti_raw_path)\n",
    "brent_df.to_csv(brent_raw_path)\n",
    "natgas_df.to_csv(natgas_raw_path)"
   ]
  },
  {
   "cell_type": "markdown",
   "metadata": {},
   "source": [
    "## Interim"
   ]
  },
  {
   "cell_type": "code",
   "execution_count": 13,
   "metadata": {},
   "outputs": [],
   "source": [
    "cnmc_df.to_csv(cnmc_intm_path)"
   ]
  },
  {
   "cell_type": "code",
   "execution_count": 14,
   "metadata": {},
   "outputs": [],
   "source": [
    "comm_df.to_csv(comm_intm_path)"
   ]
  },
  {
   "cell_type": "code",
   "execution_count": null,
   "metadata": {},
   "outputs": [],
   "source": []
  }
 ],
 "metadata": {
  "kernelspec": {
   "display_name": "Python 3",
   "language": "python",
   "name": "python3"
  },
  "language_info": {
   "codemirror_mode": {
    "name": "ipython",
    "version": 3
   },
   "file_extension": ".py",
   "mimetype": "text/x-python",
   "name": "python",
   "nbconvert_exporter": "python",
   "pygments_lexer": "ipython3",
   "version": "3.8.5"
  }
 },
 "nbformat": 4,
 "nbformat_minor": 4
}
